{
  "cells": [
    {
      "cell_type": "code",
      "execution_count": null,
      "metadata": {
        "id": "dd82LHwLmpkF"
      },
      "outputs": [],
      "source": [
        "from sklearn.datasets import make_regression\n",
        "import pandas as pd\n",
        "import numpy as np\n",
        "\n",
        "import plotly.express as px\n",
        "import plotly.graph_objects as go\n",
        "\n",
        "from sklearn.metrics import mean_absolute_error,mean_squared_error,r2_score"
      ]
    },
    {
      "cell_type": "code",
      "execution_count": null,
      "metadata": {
        "id": "o-kkwl10m9Ef"
      },
      "outputs": [],
      "source": [
        "X,y = make_regression(n_samples=100, n_features=2, n_informative=2, n_targets=1, noise=50)"
      ]
    },
    {
      "cell_type": "code",
      "execution_count": null,
      "metadata": {
        "id": "hf4eEtH5nNZC"
      },
      "outputs": [],
      "source": [
        "df = pd.DataFrame({'feature1':X[:,0],'feature2':X[:,1],'target':y})"
      ]
    },
    {
      "cell_type": "code",
      "execution_count": null,
      "metadata": {
        "colab": {
          "base_uri": "https://localhost:8080/"
        },
        "id": "hfz-7c5pmmOw",
        "outputId": "9646626b-f408-4a07-9226-2b2732ee146d"
      },
      "outputs": [],
      "source": [
        "df.shape"
      ]
    },
    {
      "cell_type": "code",
      "execution_count": null,
      "metadata": {
        "colab": {
          "base_uri": "https://localhost:8080/",
          "height": 198
        },
        "id": "01dAHVqsAuDp",
        "outputId": "25391891-4520-4c67-bead-4a0fa44c9784"
      },
      "outputs": [],
      "source": [
        "df.head()"
      ]
    },
    {
      "cell_type": "code",
      "execution_count": null,
      "metadata": {
        "colab": {
          "base_uri": "https://localhost:8080/",
          "height": 542
        },
        "id": "kvlFl8W1Bn5p",
        "outputId": "648a7b07-560f-4e7f-821c-607d8ff6a0dc"
      },
      "outputs": [],
      "source": [
        "fig = px.scatter_3d(df, x='feature1', y='feature2', z='target')\n",
        "\n",
        "fig.show()"
      ]
    },
    {
      "cell_type": "code",
      "execution_count": null,
      "metadata": {
        "id": "JuxDxS4JB80Z"
      },
      "outputs": [],
      "source": [
        "from sklearn.model_selection import train_test_split\n",
        "X_train,X_test,y_train,y_test = train_test_split(X,y,test_size=0.2,random_state=3)"
      ]
    },
    {
      "cell_type": "code",
      "execution_count": null,
      "metadata": {
        "id": "eG18yML6nl0h"
      },
      "outputs": [],
      "source": [
        "from sklearn.linear_model import LinearRegression"
      ]
    },
    {
      "cell_type": "code",
      "execution_count": null,
      "metadata": {
        "id": "W_OGmF3npCKC"
      },
      "outputs": [],
      "source": [
        "lr = LinearRegression()"
      ]
    },
    {
      "cell_type": "code",
      "execution_count": null,
      "metadata": {
        "colab": {
          "base_uri": "https://localhost:8080/"
        },
        "id": "g6hR7U0epEBR",
        "outputId": "8f1e75c9-8aa6-4450-d8a0-d8df50b9600c"
      },
      "outputs": [],
      "source": [
        "lr.fit(X_train,y_train)"
      ]
    },
    {
      "cell_type": "code",
      "execution_count": null,
      "metadata": {
        "id": "eKExpiVMpF9F"
      },
      "outputs": [],
      "source": [
        "y_pred = lr.predict(X_test)"
      ]
    },
    {
      "cell_type": "code",
      "execution_count": null,
      "metadata": {
        "colab": {
          "base_uri": "https://localhost:8080/"
        },
        "id": "90AXRhgzrSW_",
        "outputId": "8f6d4538-ce4f-44be-90c6-a5e013c8ab80"
      },
      "outputs": [],
      "source": [
        "print(\"MAE\",mean_absolute_error(y_test,y_pred))\n",
        "print(\"MSE\",mean_squared_error(y_test,y_pred))\n",
        "print(\"R2 score\",r2_score(y_test,y_pred))"
      ]
    },
    {
      "cell_type": "code",
      "execution_count": null,
      "metadata": {
        "id": "GQQrYU8r3fpd"
      },
      "outputs": [],
      "source": [
        "x = np.linspace(-5, 5, 10)\n",
        "y = np.linspace(-5, 5, 10)\n",
        "xGrid, yGrid = np.meshgrid(y, x)\n",
        "\n",
        "z_final = lr.predict(final).reshape(10,10)\n",
        "\n",
        "z = z_final\n",
        "\n",
        "final = np.vstack((xGrid.ravel().reshape(1,100),yGrid.ravel().reshape(1,100))).T"
      ]
    },
    {
      "cell_type": "code",
      "execution_count": null,
      "metadata": {
        "colab": {
          "base_uri": "https://localhost:8080/",
          "height": 542
        },
        "id": "NpAvnU-t3yV0",
        "outputId": "adac4b74-fa27-4440-eff7-b0643e1f0ce9"
      },
      "outputs": [],
      "source": [
        "fig = px.scatter_3d(df, x='feature1', y='feature2', z='target')\n",
        "\n",
        "fig.add_trace(go.Surface(x = x, y = y, z =z ))\n",
        "\n",
        "fig.show()"
      ]
    },
    {
      "cell_type": "code",
      "execution_count": null,
      "metadata": {
        "colab": {
          "base_uri": "https://localhost:8080/"
        },
        "id": "YVdgVIn_5ElG",
        "outputId": "4981763b-d36e-4bf4-b5e1-b0d34c0ae2e7"
      },
      "outputs": [],
      "source": [
        "lr.coef_"
      ]
    },
    {
      "cell_type": "code",
      "execution_count": null,
      "metadata": {
        "colab": {
          "base_uri": "https://localhost:8080/"
        },
        "id": "kIVDDKIynz1b",
        "outputId": "aed35369-2dfe-4dbd-d606-18550add93f5"
      },
      "outputs": [],
      "source": [
        "lr.intercept_"
      ]
    },
    {
      "cell_type": "code",
      "execution_count": null,
      "metadata": {
        "id": "m7ZOTCgen3l3"
      },
      "outputs": [],
      "source": []
    }
  ],
  "metadata": {
    "colab": {
      "name": "multiple-linear-regression.ipynb",
      "provenance": []
    },
    "kernelspec": {
      "display_name": "base",
      "language": "python",
      "name": "python3"
    },
    "language_info": {
      "codemirror_mode": {
        "name": "ipython",
        "version": 3
      },
      "file_extension": ".py",
      "mimetype": "text/x-python",
      "name": "python",
      "nbconvert_exporter": "python",
      "pygments_lexer": "ipython3",
      "version": "3.12.7"
    }
  },
  "nbformat": 4,
  "nbformat_minor": 0
}
